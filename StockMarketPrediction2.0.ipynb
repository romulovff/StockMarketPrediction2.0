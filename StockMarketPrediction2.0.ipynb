{
 "cells": [
  {
   "cell_type": "markdown",
   "metadata": {},
   "source": [
    "<h2><b>Importing libraries</b></h2>"
   ]
  },
  {
   "cell_type": "code",
   "execution_count": 153,
   "metadata": {},
   "outputs": [],
   "source": [
    "import pandas as pd\n",
    "import numpy as np\n",
    "from bs4 import BeautifulSoup\n",
    "import matplotlib.pyplot as plt\n",
    "import mplfinance as mpf\n",
    "from pandas_datareader import data\n",
    "import matplotlib.dates as mdates\n",
    "import seaborn as sns\n",
    "import yfinance as yf\n",
    "import tensorflow as tf\n",
    "from tensorflow import keras\n",
    "import pandas_datareader as web\n",
    "from sklearn.preprocessing import MinMaxScaler\n",
    "from sklearn import svm\n",
    "from sklearn.model_selection import train_test_split\n",
    "from sklearn import preprocessing\n",
    "from sklearn.metrics import r2_score\n",
    "from sklearn.metrics import mean_absolute_error\n",
    "from sklearn.metrics import mean_squared_error"
   ]
  },
  {
   "cell_type": "markdown",
   "metadata": {},
   "source": [
    "<h2><b>Getting data</b></h2>"
   ]
  },
  {
   "cell_type": "code",
   "execution_count": 45,
   "metadata": {},
   "outputs": [],
   "source": [
    "histVale = web.DataReader('VALE', data_source='yahoo', start=\"2018-01-01\", end=\"2018-12-30\")\n",
    "histAzul = web.DataReader('AZUL4.SA', data_source='yahoo', start=\"2018-01-01\", end=\"2018-12-30\")\n",
    "histBB = web.DataReader('BBAS3.SA', data_source='yahoo', start=\"2018-01-01\", end=\"2018-12-30\")\n",
    "histPetro = web.DataReader('PBR', data_source='yahoo', start=\"2018-01-01\", end=\"2018-12-30\")\n",
    "histItau = web.DataReader('ITUB', data_source='yahoo', start=\"2018-01-01\", end=\"2018-12-30\")"
   ]
  },
  {
   "cell_type": "code",
   "execution_count": 46,
   "metadata": {},
   "outputs": [],
   "source": [
    "historicStock = [histVale, histAzul, histBB, histPetro, histItau]"
   ]
  },
  {
   "cell_type": "code",
   "execution_count": 47,
   "metadata": {},
   "outputs": [],
   "source": [
    "monthlyInflation2018 = [0.0076, 0.0007, 0.0064, 0.0057, 0.0138, 0.0187, 0.0051, 0.0070, 0.0152, 0.0089, -0.0049, -0.0108]"
   ]
  },
  {
   "cell_type": "markdown",
   "metadata": {},
   "source": [
    "<h2><b>Calculating daily inflation</b></h2>"
   ]
  },
  {
   "cell_type": "code",
   "execution_count": 107,
   "metadata": {},
   "outputs": [],
   "source": [
    "dayMonth30 = [4,6,9,11]\n",
    "dayMonth31 = [1,3,5,7,8,10,12]\n",
    "        \n",
    "def calculate_daily_inflation(monthlyInflation):\n",
    "    dailyInflation = []\n",
    "    inflationHigh = []\n",
    "    inflationLow = []\n",
    "    inflationOpen = []\n",
    "    inflationClose = []\n",
    "    \n",
    "    for index, inf in enumerate(monthlyInflation):\n",
    "        if np.isin(index, dayMonth30):\n",
    "            dailyInflation.append((1 + inf) ** (1/float(30)))\n",
    "        elif np.isin(index, dayMonth31):\n",
    "            dailyInflation.append((1 + inf) ** (1/float(31)))\n",
    "        else:\n",
    "            dailyInflation.append((1 + inf) ** (1/float(28)))\n",
    "    \n",
    "    for stock in historicStock:\n",
    "        stock[\"Month\"] = stock.index.month\n",
    "        total = 1\n",
    "        inflation = []\n",
    "        for index, row in stock.iterrows():\n",
    "            month = int(row['Month'])\n",
    "            if dailyInflation[month - 1] >= 1:\n",
    "                total = total * dailyInflation[month - 1]\n",
    "            else:\n",
    "                total = total / dailyInflation[month - 1]\n",
    "            inflation.append(total)\n",
    "        inflationReversed = np.flip(inflation)\n",
    "        stock[\"DailyInflation\"] = inflationReversed\n",
    "        \n",
    "    for stock in historicStock:\n",
    "        for index, row in stock.iterrows():\n",
    "            inflationHigh = round(stock[\"High\"] * stock[\"DailyInflation\"], 2)\n",
    "            inflationLow = round(stock[\"Low\"] * stock[\"DailyInflation\"], 2)\n",
    "            inflationOpen = round(stock[\"Open\"] * stock[\"DailyInflation\"], 2)\n",
    "            inflationClose = round(stock[\"Close\"] * stock[\"DailyInflation\"], 2) \n",
    "        stock[\"InflationHigh\"] = inflationHigh\n",
    "        stock[\"InflationLow\"] = inflationLow\n",
    "        stock[\"InflationOpen\"] = inflationOpen\n",
    "        stock[\"InflationClose\"] = inflationClose"
   ]
  },
  {
   "cell_type": "code",
   "execution_count": 108,
   "metadata": {},
   "outputs": [],
   "source": [
    "calculate_daily_inflation(monthlyInflation2018)"
   ]
  },
  {
   "cell_type": "markdown",
   "metadata": {},
   "source": [
    "<h2><b>Calculating short and long EMAs, MACD and Signal lines</b></h2>"
   ]
  },
  {
   "cell_type": "code",
   "execution_count": 115,
   "metadata": {},
   "outputs": [],
   "source": [
    "def calculate_lines():\n",
    "    for stock in historicStock:\n",
    "        stock[\"ShortEMA\"] = stock[\"Close\"].ewm(span = 12, adjust = False).mean()\n",
    "        stock[\"LongEMA\"] = stock[\"Close\"].ewm(span = 26, adjust = False).mean()\n",
    "        stock[\"MACD\"] = stock[\"ShortEMA\"] - stock[\"LongEMA\"]\n",
    "        stock[\"Signal\"] = stock[\"MACD\"].ewm(span = 9, adjust = False).mean()\n",
    "        stock[\"InflationShortEMA\"] = stock[\"InflationClose\"].ewm(span = 12, adjust = False).mean()\n",
    "        stock[\"InflationLongEMA\"] = stock[\"InflationClose\"].ewm(span = 26, adjust = False).mean()\n",
    "        stock[\"InflationMACD\"] = stock[\"InflationShortEMA\"] - stock[\"InflationLongEMA\"]\n",
    "        stock[\"InflationSignal\"] = stock[\"InflationMACD\"].ewm(span = 9, adjust = False).mean()"
   ]
  },
  {
   "cell_type": "code",
   "execution_count": 116,
   "metadata": {},
   "outputs": [],
   "source": [
    "calculate_lines()"
   ]
  },
  {
   "cell_type": "markdown",
   "metadata": {},
   "source": [
    "<h2><b>Calculating Relative Strength Index (RSI)</b></h2>"
   ]
  },
  {
   "cell_type": "code",
   "execution_count": 117,
   "metadata": {},
   "outputs": [],
   "source": [
    "def calculate_RSI(window):\n",
    "    for stock in historicStock:\n",
    "        delta = stock[\"Close\"].diff()\n",
    "        up_days = delta.copy()\n",
    "        up_days[delta<=0]=0.0\n",
    "        down_days = abs(delta.copy())\n",
    "        down_days[delta>0]=0.0\n",
    "        RS_up = up_days.rolling(window).mean()\n",
    "        RS_down = down_days.rolling(window).mean()\n",
    "        rsi= 100-100/(1+RS_up/RS_down)\n",
    "        stock[\"RSI\"] = rsi\n",
    "        \n",
    "        delta = stock[\"InflationClose\"].diff()\n",
    "        up_days = delta.copy()\n",
    "        up_days[delta<=0]=0.0\n",
    "        down_days = abs(delta.copy())\n",
    "        down_days[delta>0]=0.0\n",
    "        RS_up = up_days.rolling(window).mean()\n",
    "        RS_down = down_days.rolling(window).mean()\n",
    "        rsi= 100-100/(1+RS_up/RS_down)\n",
    "        stock[\"InflationRSI\"] = rsi"
   ]
  },
  {
   "cell_type": "code",
   "execution_count": 120,
   "metadata": {},
   "outputs": [],
   "source": [
    "calculate_RSI(14)"
   ]
  },
  {
   "cell_type": "markdown",
   "metadata": {},
   "source": [
    "<h2><b>Function to plot RSI</b></h2>"
   ]
  },
  {
   "cell_type": "code",
   "execution_count": 152,
   "metadata": {},
   "outputs": [],
   "source": [
    "def plot_rsi_close(stock, stockName, inflation=False):\n",
    "    scaler = MinMaxScaler()\n",
    "    stockScaled = pd.DataFrame(scaler.fit_transform(stock), columns=stock.columns)\n",
    "\n",
    "    plt.figure(figsize = (20, 10))\n",
    "    if inflation == False:\n",
    "        ax = stockScaled[\"RSI\"].plot()\n",
    "        stockScaled[\"Close\"].plot()\n",
    "    else:\n",
    "        ax = stockScaled[\"InflationRSI\"].plot()\n",
    "        stockScaled[\"InflationClose\"].plot()\n",
    "    ax.axhline(y = 0.7, color = 'red')\n",
    "    ax.axhline(y = 0.3, color = 'lime')\n",
    "    plt.title(f'Relação RSI e Close da {stockName}')\n",
    "    plt.legend()\n",
    "    plt.show()"
   ]
  },
  {
   "cell_type": "markdown",
   "metadata": {},
   "source": [
    "<h2><b>Calculating Money Flow Index (MFI)</b></h2>"
   ]
  },
  {
   "cell_type": "code",
   "execution_count": 133,
   "metadata": {},
   "outputs": [],
   "source": [
    "def calculate_MFI(window):\n",
    "    for stock in historicStock:\n",
    "        stock[\"TypicalPrice\"] = (stock[\"High\"] + stock[\"Low\"] + stock[\"Close\"]) / 3\n",
    "        delta = stock[\"TypicalPrice\"].diff()\n",
    "        up_days = delta.copy()\n",
    "        up_days[delta<=0]=0.0\n",
    "        up_days[delta>0]=stock[\"TypicalPrice\"]\n",
    "        down_days = abs(delta.copy())\n",
    "        down_days[delta>0]=0.0\n",
    "        down_days[delta<=0]=stock[\"TypicalPrice\"]\n",
    "        stock[\"1DayPositiveMoneyFlow\"] = up_days * stock[\"Volume\"]\n",
    "        stock[\"1DayNegativeMoneyFlow\"] = down_days * stock[\"Volume\"]\n",
    "        stock[\"nDayPositiveMoneyFlow\"] = stock[\"1DayPositiveMoneyFlow\"].rolling(window).sum()\n",
    "        stock[\"nDayNegativeMoneyFlow\"] = stock[\"1DayNegativeMoneyFlow\"].rolling(window).sum()\n",
    "        stock[\"MoneyFlowRatio\"] = stock[\"nDayPositiveMoneyFlow\"] / stock[\"nDayNegativeMoneyFlow\"]\n",
    "        stock[\"MoneyFlowIndex\"] = 100 - (100 / (1 + stock[\"MoneyFlowRatio\"]))\n",
    "\n",
    "        stock[\"InflationTypicalPrice\"] = (stock[\"InflationHigh\"] + stock[\"InflationLow\"] + stock[\"InflationClose\"]) / 3\n",
    "        delta = stock[\"InflationTypicalPrice\"].diff()\n",
    "        up_days = delta.copy()\n",
    "        up_days[delta<=0]=0.0\n",
    "        up_days[delta>0]=stock[\"InflationTypicalPrice\"]\n",
    "        down_days = abs(delta.copy())\n",
    "        down_days[delta>0]=0.0\n",
    "        down_days[delta<=0]=stock[\"InflationTypicalPrice\"]\n",
    "        stock[\"Inflation1DayPositiveMoneyFlow\"] = up_days * stock[\"Volume\"]\n",
    "        stock[\"Inflation1DayNegativeMoneyFlow\"] = down_days * stock[\"Volume\"]\n",
    "        stock[\"InflationnDayPositiveMoneyFlow\"] = stock[\"Inflation1DayPositiveMoneyFlow\"].rolling(window).sum()\n",
    "        stock[\"InflationnDayNegativeMoneyFlow\"] = stock[\"Inflation1DayNegativeMoneyFlow\"].rolling(window).sum()\n",
    "        stock[\"InflationMoneyFlowRatio\"] = stock[\"InflationnDayPositiveMoneyFlow\"] / stock[\"InflationnDayNegativeMoneyFlow\"]\n",
    "        stock[\"InflationMoneyFlowIndex\"] = 100 - (100 / (1 + stock[\"InflationMoneyFlowRatio\"]))"
   ]
  },
  {
   "cell_type": "code",
   "execution_count": 134,
   "metadata": {},
   "outputs": [],
   "source": [
    "calculate_MFI(14)"
   ]
  },
  {
   "cell_type": "markdown",
   "metadata": {},
   "source": [
    "<h2><b>Function to plot MFI</b></h2>"
   ]
  },
  {
   "cell_type": "code",
   "execution_count": 151,
   "metadata": {},
   "outputs": [],
   "source": [
    "def plot_mfi(stock, stockName, inflation=False):\n",
    "\n",
    "    plt.figure(figsize = (20, 10))\n",
    "    if inflation == False:\n",
    "        ax = stock[\"MoneyFlowIndex\"].plot()\n",
    "    else:\n",
    "        ax = stock[\"InflationMoneyFlowIndex\"].plot()\n",
    "    ax.axhline(y = 20, color = 'red')\n",
    "    ax.axhline(y = 80, color = 'lime')\n",
    "    plt.title(f'MFI da {stockName}')\n",
    "    plt.legend()\n",
    "    plt.show()"
   ]
  },
  {
   "cell_type": "markdown",
   "metadata": {},
   "source": [
    "<h2><b>Calculating Stochastic Oscillator</b></h2>"
   ]
  },
  {
   "cell_type": "code",
   "execution_count": 138,
   "metadata": {},
   "outputs": [],
   "source": [
    "def calculate_stochastic_oscillator(window):\n",
    "    for stock in historicStock:\n",
    "        nHigh = stock[\"High\"].rolling(window).max()\n",
    "        nLow = stock[\"Low\"].rolling(window).min()\n",
    "        stock[\"StochasticOscillator\"] = ((stock[\"Close\"] - nLow) / (nHigh - nLow)) * 100\n",
    "        \n",
    "        nHigh = stock[\"InflationHigh\"].rolling(window).max()\n",
    "        nLow = stock[\"InflationLow\"].rolling(window).min()\n",
    "        stock[\"InflationStochasticOscillator\"] = ((stock[\"InflationClose\"] - nLow) / (nHigh - nLow)) * 100"
   ]
  },
  {
   "cell_type": "code",
   "execution_count": 139,
   "metadata": {},
   "outputs": [],
   "source": [
    "calculate_stochastic_oscillator(14)"
   ]
  },
  {
   "cell_type": "markdown",
   "metadata": {},
   "source": [
    "<h2><b>Function to plot Stochastic Oscillator</b></h2>"
   ]
  },
  {
   "cell_type": "code",
   "execution_count": 150,
   "metadata": {},
   "outputs": [],
   "source": [
    "def plot_stochastic_oscillator(stock, stockName, inflation=False):\n",
    "\n",
    "    plt.figure(figsize = (20, 10))\n",
    "    if inflation == False:\n",
    "        ax = stock[\"StochasticOscillator\"].plot()\n",
    "    else:\n",
    "        ax = stock[\"InflationStochasticOscillator\"].plot()\n",
    "    ax.axhline(y = 20, color = 'red')\n",
    "    ax.axhline(y = 80, color = 'lime')\n",
    "    plt.title(f'Oscilador estocástico da {stockName}')\n",
    "    plt.legend()\n",
    "    plt.show()"
   ]
  },
  {
   "cell_type": "markdown",
   "metadata": {},
   "source": [
    "<h2><b>Function to plot correlation matrix</b></h2>"
   ]
  },
  {
   "cell_type": "code",
   "execution_count": 147,
   "metadata": {},
   "outputs": [],
   "source": [
    "def show_corr_matrix(stock, inflation=False):\n",
    "\n",
    "    if inflation == False:\n",
    "        corrMatrix = stock[[\"Close\", \"RSI\", \"MoneyFlowIndex\", \"StochasticOscillator\", \"ShortEMA\", \"LongEMA\", \"MACD\"]].corr()\n",
    "    else:\n",
    "        corrMatrix = stock[[\"InflationClose\", \"InflationRSI\", \"InflationMoneyFlowIndex\", \"InflationStochasticOscillator\", \"InflationShortEMA\", \"InflationLongEMA\", \"InflationMACD\"]].corr()\n",
    "\n",
    "    sns.heatmap(corrMatrix, annot=True)\n",
    "    plt.figure(figsize = (100,100))\n",
    "    plt.show()"
   ]
  },
  {
   "cell_type": "markdown",
   "metadata": {},
   "source": [
    "<h2><b>Function to predict traditional SVM</b></h2>"
   ]
  },
  {
   "cell_type": "code",
   "execution_count": 204,
   "metadata": {},
   "outputs": [],
   "source": [
    "svmRegressor = svm.SVR(kernel=\"linear\")\n",
    "svmRegressorNu = svm.NuSVR(kernel=\"linear\")"
   ]
  },
  {
   "cell_type": "code",
   "execution_count": 205,
   "metadata": {},
   "outputs": [],
   "source": [
    "def predict_svm_traditional(stock, inflation=False):\n",
    "    if inflation == False:\n",
    "        stockX = stock[[\"RSI\", \"MoneyFlowIndex\", \"StochasticOscillator\", \"ShortEMA\", \"MACD\"]][15:]\n",
    "        stockY = stock[\"Close\"][15:]\n",
    "    else:\n",
    "        stockX = stock[[\"InflationRSI\", \"InflationMoneyFlowIndex\", \"InflationStochasticOscillator\", \"InflationShortEMA\", \"InflationMACD\"]][15:]\n",
    "        stockY = stock[\"InflationClose\"][15:]\n",
    "    X = np.array(stockX)\n",
    "    y = np.array(stockY)\n",
    "    X_train, X_test, y_train, y_test = train_test_split(X, y, random_state=42, shuffle=False)\n",
    "\n",
    "    svmRegressor.fit(X_train, y_train)\n",
    "    \n",
    "    y_pred = svmRegressor.predict(X_test)\n",
    "    print('Predicted values: ', y_pred)\n",
    "    print('Testing values: ', y_test)\n",
    "    print('Coefficients: \\n', svmRegressor.coef_)\n",
    "    \n",
    "    return y_pred, y_test, y_train"
   ]
  },
  {
   "cell_type": "code",
   "execution_count": 206,
   "metadata": {},
   "outputs": [],
   "source": [
    "def predict_plot_svm(stock, inflation=False):\n",
    "    y_pred, y_test, y_train = predict_svm_traditional(stock, inflation)\n",
    "    \n",
    "    print('R^2 value: ', r2_score(y_test, y_pred))\n",
    "    print('MAE score: ', mean_absolute_error(y_test, y_pred))\n",
    "    print('RMSE value: ', mean_squared_error(y_test, y_pred, squared=False))\n",
    "    \n",
    "    plt.plot(y_test, label=\"Real value\")\n",
    "    plt.plot(y_pred, label=\"Prediction\")\n",
    "    plt.legend()\n",
    "    plt.show()"
   ]
  },
  {
   "cell_type": "markdown",
   "metadata": {},
   "source": [
    "<h2><b>Function to predict Nu SVM</b></h2>"
   ]
  },
  {
   "cell_type": "code",
   "execution_count": 216,
   "metadata": {},
   "outputs": [],
   "source": [
    "def predict_svm_nu(stock, inflation=False):\n",
    "    if inflation == False:\n",
    "        stockX = stock[[\"RSI\", \"MoneyFlowIndex\", \"StochasticOscillator\", \"ShortEMA\", \"MACD\"]][15:]\n",
    "        stockY = stock[\"Close\"][15:]\n",
    "    else:\n",
    "        stockX = stock[[\"InflationRSI\", \"InflationMoneyFlowIndex\", \"InflationStochasticOscillator\", \"InflationShortEMA\", \"InflationMACD\"]][15:]\n",
    "        stockY = stock[\"InflationClose\"][15:]\n",
    "    X = np.array(stockX)\n",
    "    y = np.array(stockY)\n",
    "    X_train, X_test, y_train, y_test = train_test_split(X, y, random_state=42, shuffle=False)\n",
    "\n",
    "    svmRegressorNu.fit(X_train, y_train)\n",
    "    \n",
    "    y_pred = svmRegressorNu.predict(X_test)\n",
    "    print('Predicted values: ', y_pred)\n",
    "    print('Testing values: ', y_test)\n",
    "    print('Coefficients: \\n', svmRegressorNu.coef_)\n",
    "    \n",
    "    return y_pred, y_test, y_train"
   ]
  },
  {
   "cell_type": "code",
   "execution_count": 217,
   "metadata": {},
   "outputs": [],
   "source": [
    "def predict_plot_svm_nu(stock, inflation=False):\n",
    "    y_pred, y_test, y_train = predict_svm_nu(stock, inflation)\n",
    "    \n",
    "    print('R^2 value: ', r2_score(y_test, y_pred))\n",
    "    print('MAE score: ', mean_absolute_error(y_test, y_pred))\n",
    "    print('RMSE value: ', mean_squared_error(y_test, y_pred, squared=False))\n",
    "    \n",
    "    plt.plot(y_test, label=\"Real value\")\n",
    "    plt.plot(y_pred, label=\"Prediction\")\n",
    "    plt.legend()\n",
    "    plt.show()"
   ]
  },
  {
   "cell_type": "code",
   "execution_count": null,
   "metadata": {},
   "outputs": [],
   "source": []
  },
  {
   "cell_type": "code",
   "execution_count": null,
   "metadata": {},
   "outputs": [],
   "source": []
  }
 ],
 "metadata": {
  "kernelspec": {
   "display_name": "Python 3",
   "language": "python",
   "name": "python3"
  },
  "language_info": {
   "codemirror_mode": {
    "name": "ipython",
    "version": 3
   },
   "file_extension": ".py",
   "mimetype": "text/x-python",
   "name": "python",
   "nbconvert_exporter": "python",
   "pygments_lexer": "ipython3",
   "version": "3.7.6"
  }
 },
 "nbformat": 4,
 "nbformat_minor": 4
}
